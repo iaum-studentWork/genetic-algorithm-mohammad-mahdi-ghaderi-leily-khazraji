{
 "cells": [
  {
   "cell_type": "code",
   "execution_count": null,
   "metadata": {},
   "outputs": [],
   "source": [
    "#Comparison_of_Selection_Methods\n",
    "#Researchers: Mohammad Mahdi Ghaderi  &  Leily Khazraji"
   ]
  },
  {
   "cell_type": "code",
   "execution_count": null,
   "metadata": {},
   "outputs": [],
   "source": [
    "import numpy as np\n",
    "import pandas as pd\n"
   ]
  },
  {
   "cell_type": "code",
   "execution_count": null,
   "metadata": {},
   "outputs": [],
   "source": [
    "# 20 city\n",
    "data = {\n",
    "    'City': ['Tehran', 'Isfahan', 'Tabriz', 'Shiraz', 'Mashhad',\n",
    "             'Kermanshah', 'Yazd', 'Karaj', 'Ahvaz', 'Qom',\n",
    "             'Urmia', 'Arak', 'Kerman', 'Zanjan', 'Sari',\n",
    "             'Gorgan', 'Bandar Abbas', 'Birjand', 'Sabzevar', 'Bojnurd'],\n",
    "    'Latitude': [35.6892, 32.6546, 38.0962, 29.5918, 36.2605,\n",
    "                 34.3293, 31.8974, 35.8325, 31.3193, 34.639,\n",
    "                 37.5505, 34.0944, 30.2835, 36.6732, 36.6751,\n",
    "                 36.6975, 27.1884, 32.8716, 33.0565, 37.4875],\n",
    "    'Longitude': [51.3890, 51.6570, 46.2913, 52.5836, 59.5443,\n",
    "                  47.1167, 54.3660, 51.9792, 48.6692, 50.8764,\n",
    "                  45.9773, 49.6957, 57.0786, 48.5014, 53.0204,\n",
    "                  54.0172, 56.2167, 59.2253, 57.6775, 57.1847]\n",
    "}\n"
   ]
  },
  {
   "cell_type": "code",
   "execution_count": null,
   "metadata": {},
   "outputs": [],
   "source": [
    "iran_df = pd.DataFrame(data)\n",
    "\n",
    "points = list(zip(iran_df['Longitude'], iran_df['Latitude']))\n"
   ]
  },
  {
   "cell_type": "code",
   "execution_count": null,
   "metadata": {},
   "outputs": [],
   "source": [
    "# genetic algorithm\n",
    "class GeneticAlgorithm:\n",
    "    def __init__(self, points, population_size=100, generations=500, mutation_rate=0.01, selection_method=\"roulette\"):\n",
    "        self.points = points\n",
    "        self.population_size = population_size\n",
    "        self.generations = generations\n",
    "        self.mutation_rate = mutation_rate\n",
    "        self.population = self.initialize_population()\n",
    "        self.selection_method = selection_method\n",
    "\n",
    "    def initialize_population(self):\n",
    "        return [np.random.permutation(len(self.points)) for _ in range(self.population_size)]\n",
    "\n",
    "    def calculate_distance(self, tour):\n",
    "        distance = 0\n",
    "        for i in range(len(tour)):\n",
    "            point1 = self.points[tour[i]]\n",
    "            point2 = self.points[tour[(i + 1) % len(tour)]]\n",
    "            distance += np.linalg.norm(np.array(point1) - np.array(point2))\n",
    "        return distance\n",
    "\n",
    "    def select_parents(self):\n",
    "        if self.selection_method == \"roulette\":\n",
    "            fitness = [1 / self.calculate_distance(tour) for tour in self.population]\n",
    "            total_fitness = sum(fitness)\n",
    "\n",
    "            if total_fitness == 0:\n",
    "                raise ValueError(\"Total fitness is zero. Something went wrong with the distances.\")\n",
    "\n",
    "            probabilities = [f / total_fitness for f in fitness]\n",
    "\n",
    "            population_indices = np.arange(len(self.population))\n",
    "\n",
    "            return np.random.choice(population_indices, size=2, p=probabilities)\n",
    "\n",
    "        elif self.selection_method == \"tournament\":\n",
    "            tournament_size = 5\n",
    "            selected = []\n",
    "            for _ in range(2):\n",
    "                tournament = np.random.choice(self.population, tournament_size)\n",
    "                winner = min(tournament, key=self.calculate_distance)\n",
    "                selected.append(self.population.index(winner))\n",
    "            return selected\n",
    "\n",
    "        elif self.selection_method == \"rank\":\n",
    "            distances = [self.calculate_distance(tour) for tour in self.population]\n",
    "            sorted_indices = np.argsort(distances)\n",
    "            ranks = np.arange(1, len(self.population) + 1)\n",
    "            probabilities = ranks / ranks.sum()\n",
    "\n",
    "            return np.random.choice(sorted_indices, size=2, p=probabilities)\n",
    "\n",
    "    def crossover(self, parent1, parent2):\n",
    "        start, end = sorted(np.random.choice(len(parent1), 2, replace=False))\n",
    "        child = [None] * len(parent1)\n",
    "        child[start:end + 1] = parent1[start:end + 1]\n",
    "\n",
    "        current_position = (end + 1) % len(parent1)\n",
    "        for gene in parent2:\n",
    "            if gene not in child:\n",
    "                child[current_position] = gene\n",
    "                current_position = (current_position + 1) % len(parent1)\n",
    "        return np.array(child)\n",
    "\n",
    "    def mutate(self, tour):\n",
    "        if np.random.rand() < self.mutation_rate:\n",
    "            idx1, idx2 = np.random.choice(len(tour), 2, replace=False)\n",
    "            tour[idx1], tour[idx2] = tour[idx2], tour[idx1]\n",
    "\n",
    "    def run(self):\n",
    "        for generation in range(self.generations):\n",
    "            new_population = []\n",
    "            for _ in range(self.population_size):\n",
    "                parent_indices = self.select_parents()\n",
    "                parent1 = self.population[parent_indices[0]]\n",
    "                parent2 = self.population[parent_indices[1]]\n",
    "                child = self.crossover(parent1, parent2)\n",
    "                self.mutate(child)\n",
    "                new_population.append(child)\n",
    "\n",
    "            self.population = new_population\n",
    "\n",
    "        best_tour = min(self.population, key=self.calculate_distance)\n",
    "        best_distance = self.calculate_distance(best_tour)\n",
    "        return best_tour, best_distance\n"
   ]
  },
  {
   "cell_type": "code",
   "execution_count": null,
   "metadata": {},
   "outputs": [],
   "source": [
    "methods = [\"roulette\", \"tournament\", \"rank\"]\n",
    "results = {}\n",
    "cities = iran_df['City'].tolist()"
   ]
  },
  {
   "cell_type": "code",
   "execution_count": null,
   "metadata": {},
   "outputs": [],
   "source": [
    "for method in methods:\n",
    "    ga = GeneticAlgorithm(points, selection_method=method)\n",
    "    best_tour, best_distance = ga.run()\n",
    "    results[method] = {\n",
    "        \"Best Tour\": [cities[i] for i in best_tour],\n",
    "        \"Best Distance\": best_distance\n",
    "    }"
   ]
  },
  {
   "cell_type": "code",
   "execution_count": null,
   "metadata": {},
   "outputs": [],
   "source": [
    "# Print results\n",
    "for method, result in results.items():\n",
    "    print(f\"Selection Method: {method}\")\n",
    "    print(f\"Best Distance: {result['Best Distance']}\")\n",
    "    print(f\"Best Tour: {result['Best Tour']}\")\n",
    "    print(\"-\")\n"
   ]
  }
 ],
 "metadata": {
  "kernelspec": {
   "display_name": "Python 3",
   "language": "python",
   "name": "python3"
  },
  "language_info": {
   "codemirror_mode": {
    "name": "ipython",
    "version": 3
   },
   "file_extension": ".py",
   "mimetype": "text/x-python",
   "name": "python",
   "nbconvert_exporter": "python",
   "pygments_lexer": "ipython3",
   "version": "3.11.6"
  }
 },
 "nbformat": 4,
 "nbformat_minor": 2
}
